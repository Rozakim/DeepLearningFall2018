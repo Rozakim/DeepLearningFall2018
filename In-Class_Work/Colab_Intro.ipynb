{
  "nbformat": 4,
  "nbformat_minor": 0,
  "metadata": {
    "colab": {
      "name": "Colab_Intro.ipynb",
      "version": "0.3.2",
      "provenance": []
    }
  },
  "cells": [
    {
      "metadata": {
        "id": "WUvK599Ci3uJ",
        "colab_type": "text"
      },
      "cell_type": "markdown",
      "source": [
        "This is a Jupyter notebook of Python scripts to demonstrate frequently-used operations for manipulating matrices and plotting data, fundamental operations in deep learning.  \n",
        "\n",
        "Python has emerged as the language of choice for DL development. In addition to the functions inherent to Python, many libraries of 'higher-order' functions (i.e. functions constructed from combinations of more basic functions) have been devleoped for more specific applications. These can be imported to your workflow using the 'import' function. \n",
        "\n",
        "First, we import two such libraries: matplotlib.pyplot, which is useful for creating visualizations of data, and numpy, which is essential for creating and manipulating matrices and performing operations on them. \n",
        "\n",
        "Once imported, these libraries can be 'called' in our code by reffring to them by name. For notational convenience, we can initialize their  names as something shorter, using the 'import x as y' syntax. \n"
      ]
    },
    {
      "metadata": {
        "id": "eVDBoJXRu96W",
        "colab_type": "code",
        "colab": {}
      },
      "cell_type": "code",
      "source": [
        "%matplotlib inline\n",
        "import matplotlib.pyplot as plt\n",
        "import numpy as np"
      ],
      "execution_count": 0,
      "outputs": []
    },
    {
      "metadata": {
        "id": "9TGxEuWNvAEt",
        "colab_type": "text"
      },
      "cell_type": "markdown",
      "source": [
        "One type of data is called a list. It is exactly what it sounds like. Let's create a list called list1 that contains numbers 1-5. Notice that a list begins and ends with brackets. "
      ]
    },
    {
      "metadata": {
        "id": "RPGhQnoevLMC",
        "colab_type": "code",
        "colab": {}
      },
      "cell_type": "code",
      "source": [
        "list1 = [1, 2, 3, 4, 5]"
      ],
      "execution_count": 0,
      "outputs": []
    },
    {
      "metadata": {
        "id": "iYxfclhyvwps",
        "colab_type": "text"
      },
      "cell_type": "markdown",
      "source": [
        "We can then use ***print*** to view list1. Notice how it shows the list below. "
      ]
    },
    {
      "metadata": {
        "id": "f7AUBBxAvXTC",
        "colab_type": "code",
        "colab": {
          "base_uri": "https://localhost:8080/",
          "height": 35
        },
        "outputId": "a943a2e5-906b-4d27-d60e-e5a62b93bd6f"
      },
      "cell_type": "code",
      "source": [
        "print(list1)"
      ],
      "execution_count": 4,
      "outputs": [
        {
          "output_type": "stream",
          "text": [
            "[1, 2, 3, 4, 5]\n"
          ],
          "name": "stdout"
        }
      ]
    },
    {
      "metadata": {
        "id": "u4e5vjKOwL_V",
        "colab_type": "text"
      },
      "cell_type": "markdown",
      "source": [
        "Say we want to know what the first value of list1 is. We can say print(list1[0]), and it should print the number 1 because that is the first element in the list. Notice how indexing starts with 0. "
      ]
    },
    {
      "metadata": {
        "id": "127-MqE7wLF4",
        "colab_type": "code",
        "colab": {
          "base_uri": "https://localhost:8080/",
          "height": 35
        },
        "outputId": "1fceb82c-81ce-462e-aa50-87554a61d508"
      },
      "cell_type": "code",
      "source": [
        "print(list1[0])"
      ],
      "execution_count": 5,
      "outputs": [
        {
          "output_type": "stream",
          "text": [
            "1\n"
          ],
          "name": "stdout"
        }
      ]
    },
    {
      "metadata": {
        "id": "TOPbzsrywvNA",
        "colab_type": "text"
      },
      "cell_type": "markdown",
      "source": [
        "Similarly, we can print the second value in list1."
      ]
    },
    {
      "metadata": {
        "id": "_CeXUTUtwuqH",
        "colab_type": "code",
        "colab": {
          "base_uri": "https://localhost:8080/",
          "height": 35
        },
        "outputId": "30163359-fb68-4a4f-8455-baa31cd7f77a"
      },
      "cell_type": "code",
      "source": [
        "print(list1[1])"
      ],
      "execution_count": 6,
      "outputs": [
        {
          "output_type": "stream",
          "text": [
            "2\n"
          ],
          "name": "stdout"
        }
      ]
    },
    {
      "metadata": {
        "id": "8c1GrFe6w7Is",
        "colab_type": "text"
      },
      "cell_type": "markdown",
      "source": [
        "Lists can also contain letters, words, or even other lists! Let's create a list called letters that contains the letters of the alphabet up to but not including i. Notice how we need to wrap each letter (or word) in apostrophes because they are not numbers. "
      ]
    },
    {
      "metadata": {
        "id": "5UhnW_VqwDr-",
        "colab_type": "code",
        "colab": {}
      },
      "cell_type": "code",
      "source": [
        "letters = ['a', 'b', 'c', 'd', 'e', 'f', 'g', 'h']"
      ],
      "execution_count": 0,
      "outputs": []
    },
    {
      "metadata": {
        "id": "XzZ-_vP1xasl",
        "colab_type": "text"
      },
      "cell_type": "markdown",
      "source": [
        "We can find out how many items are in a list by using len(letters). A function in python, similar to math, will take in some argument(s) and do the operations that are described in it on the argument(s). Python has many built-in functions, such as len(). To use this function, it needs to take in some list - in this case the list called letters - as an argument so it can count the number of items in the list and return that. Some functions don't take any arguments, but most do. "
      ]
    },
    {
      "metadata": {
        "id": "h8dMKT7WxZ9Z",
        "colab_type": "code",
        "colab": {
          "base_uri": "https://localhost:8080/",
          "height": 35
        },
        "outputId": "b4d05d4d-55cf-4a04-e0d9-d1cfd4d3376a"
      },
      "cell_type": "code",
      "source": [
        "print(len(letters))"
      ],
      "execution_count": 11,
      "outputs": [
        {
          "output_type": "stream",
          "text": [
            "8\n"
          ],
          "name": "stdout"
        }
      ]
    },
    {
      "metadata": {
        "id": "FZp-fUN-yvd1",
        "colab_type": "text"
      },
      "cell_type": "markdown",
      "source": [
        "Below, let's create a list called names that contains the names Mary, John, Bob, and Tom. Remember to wrap each name in parenthesis since it's not a number, but a ***string***. "
      ]
    },
    {
      "metadata": {
        "id": "p3t47z2wxlDu",
        "colab_type": "code",
        "colab": {}
      },
      "cell_type": "code",
      "source": [
        "names = ['Mary', 'John', 'Bob', 'Tom']"
      ],
      "execution_count": 0,
      "outputs": []
    },
    {
      "metadata": {
        "id": "SMmw7O3KzFMj",
        "colab_type": "text"
      },
      "cell_type": "markdown",
      "source": [
        "Say we had a very long list of names and we wanted to know if one was in there. The line below illustrates how to search a list for a number/name/letter and see if it's in there. Let's look for John and Jack and  print out an appropriate response if the person is in the list or not."
      ]
    },
    {
      "metadata": {
        "id": "Iix32bafzDEt",
        "colab_type": "code",
        "colab": {
          "base_uri": "https://localhost:8080/",
          "height": 53
        },
        "outputId": "162cfb3c-cacd-4429-fabe-4f91413622fa"
      },
      "cell_type": "code",
      "source": [
        "if 'John' in names:\n",
        "  print('Hi, John.')\n",
        "  \n",
        "if 'Jack' in names:\n",
        "  print('Hi, Jack.')\n",
        "else:\n",
        "  print('Nice to meet you, Jack.')"
      ],
      "execution_count": 14,
      "outputs": [
        {
          "output_type": "stream",
          "text": [
            "Hi, John.\n",
            "Nice to meet you, Jack.\n"
          ],
          "name": "stdout"
        }
      ]
    },
    {
      "metadata": {
        "id": "lBg80cF00RBn",
        "colab_type": "text"
      },
      "cell_type": "markdown",
      "source": [
        "We can also sort a list of numbers or names based on some criteria we specify (for numbers, it automatically uses the number itself). Let's create a list of numbers called list2 and sort it in ascending order."
      ]
    },
    {
      "metadata": {
        "id": "jrpOXuU_z7nM",
        "colab_type": "code",
        "colab": {}
      },
      "cell_type": "code",
      "source": [
        "list2 = [3, 5, 10, 29, -1, 38]"
      ],
      "execution_count": 0,
      "outputs": []
    },
    {
      "metadata": {
        "id": "4a33uTt70pk7",
        "colab_type": "text"
      },
      "cell_type": "markdown",
      "source": [
        "We can use the sort() method that will arrange all of the numbers in order."
      ]
    },
    {
      "metadata": {
        "id": "QVxGl4-a0leA",
        "colab_type": "code",
        "colab": {}
      },
      "cell_type": "code",
      "source": [
        "list2.sort()"
      ],
      "execution_count": 0,
      "outputs": []
    },
    {
      "metadata": {
        "id": "3FMs8y580x8Q",
        "colab_type": "text"
      },
      "cell_type": "markdown",
      "source": [
        "Let's print out list2 now to see if it was sorted properly. "
      ]
    },
    {
      "metadata": {
        "id": "wdzjuHHV0m0r",
        "colab_type": "code",
        "colab": {
          "base_uri": "https://localhost:8080/",
          "height": 35
        },
        "outputId": "169313e8-0d4d-4b47-d0a8-ee09c2304d56"
      },
      "cell_type": "code",
      "source": [
        "print(list2)"
      ],
      "execution_count": 18,
      "outputs": [
        {
          "output_type": "stream",
          "text": [
            "[-1, 3, 5, 10, 29, 38]\n"
          ],
          "name": "stdout"
        }
      ]
    },
    {
      "metadata": {
        "id": "_6g4aKOA0-KI",
        "colab_type": "text"
      },
      "cell_type": "markdown",
      "source": [
        "We can also do arithmetic operations and other math operations in colab/python."
      ]
    },
    {
      "metadata": {
        "id": "KItKW37W0nUb",
        "colab_type": "code",
        "colab": {
          "base_uri": "https://localhost:8080/",
          "height": 35
        },
        "outputId": "6c321694-3207-40b4-a786-4a2e1955aff7"
      },
      "cell_type": "code",
      "source": [
        "a = 3 * 3\n",
        "print(a)"
      ],
      "execution_count": 19,
      "outputs": [
        {
          "output_type": "stream",
          "text": [
            "9\n"
          ],
          "name": "stdout"
        }
      ]
    },
    {
      "metadata": {
        "id": "G3x2quNA1EPW",
        "colab_type": "code",
        "colab": {
          "base_uri": "https://localhost:8080/",
          "height": 35
        },
        "outputId": "33fad6d1-436b-47a2-ede4-394cf80fd745"
      },
      "cell_type": "code",
      "source": [
        "b = 3 + 1000\n",
        "print(b)"
      ],
      "execution_count": 20,
      "outputs": [
        {
          "output_type": "stream",
          "text": [
            "1003\n"
          ],
          "name": "stdout"
        }
      ]
    },
    {
      "metadata": {
        "id": "ShiUZuzm1GIP",
        "colab_type": "code",
        "colab": {
          "base_uri": "https://localhost:8080/",
          "height": 35
        },
        "outputId": "23a4586e-f306-4bd2-ccad-2f1b770cb372"
      },
      "cell_type": "code",
      "source": [
        "c = 10/2\n",
        "print(c)"
      ],
      "execution_count": 21,
      "outputs": [
        {
          "output_type": "stream",
          "text": [
            "5\n"
          ],
          "name": "stdout"
        }
      ]
    },
    {
      "metadata": {
        "id": "B0XOBPqU1Pua",
        "colab_type": "text"
      },
      "cell_type": "markdown",
      "source": [
        "Let's create our own function called mean_calc to take in a list and calculate its mean. "
      ]
    },
    {
      "metadata": {
        "id": "TvMFFIA-1L_O",
        "colab_type": "code",
        "colab": {}
      },
      "cell_type": "code",
      "source": [
        "def mean_calc(input_list):\n",
        "  sum = 0.\n",
        "  \n",
        "  for value in input_list:\n",
        "    sum += value\n",
        "    \n",
        "  return sum / len(input_list)"
      ],
      "execution_count": 0,
      "outputs": []
    },
    {
      "metadata": {
        "id": "qpBBg5fo1nWj",
        "colab_type": "code",
        "colab": {
          "base_uri": "https://localhost:8080/",
          "height": 35
        },
        "outputId": "e2f6a128-f913-419b-cc0e-168aaaeb31af"
      },
      "cell_type": "code",
      "source": [
        "list2_mean = mean_calc(list2)\n",
        "print(list2_mean)"
      ],
      "execution_count": 25,
      "outputs": [
        {
          "output_type": "stream",
          "text": [
            "14.0\n"
          ],
          "name": "stdout"
        }
      ]
    },
    {
      "metadata": {
        "id": "KDtfE-FP1reU",
        "colab_type": "code",
        "colab": {}
      },
      "cell_type": "code",
      "source": [
        ""
      ],
      "execution_count": 0,
      "outputs": []
    }
  ]
}